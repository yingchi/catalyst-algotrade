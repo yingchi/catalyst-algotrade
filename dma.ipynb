{
 "cells": [
  {
   "cell_type": "code",
   "execution_count": 1,
   "metadata": {
    "collapsed": true
   },
   "outputs": [],
   "source": [
    "# Register the catalyst magic\n",
    "%load_ext catalyst"
   ]
  },
  {
   "cell_type": "code",
   "execution_count": 2,
   "metadata": {},
   "outputs": [],
   "source": [
    "# Setup matplotlib to display graphs inline in this Notebook\n",
    "%matplotlib inline"
   ]
  },
  {
   "cell_type": "code",
   "execution_count": null,
   "metadata": {},
   "outputs": [
    {
     "name": "stdout",
     "output_type": "stream",
     "text": [
      "Running in backtesting mode.\n"
     ]
    },
    {
     "name": "stderr",
     "output_type": "stream",
     "text": [
      "[2018-03-21 23:43:32.762998] WARNING: run_algo: Catalyst is currently in ALPHA. It is going through rapid development and it is subject to errors. Please use carefully. We encourage you to report any issue on GitHub: https://github.com/enigmampc/catalyst/issues\n",
      "[2018-03-21 23:43:32.764197] INFO: run_algo: Catalyst version 0.5.5\n",
      "[2018-03-21 23:43:35.768449] INFO: run_algo: running algo in backtest mode\n"
     ]
    }
   ],
   "source": [
    "%%catalyst --start 2015-3-2 --end 2017-6-28 --capital-base 100000 -x bitfinex -c usd --data-frequency minute\n",
    "\n",
    "from catalyst.finance.slippage import VolumeShareSlippage\n",
    "\n",
    "from catalyst.api import (\n",
    "    order_target_value,\n",
    "    symbol,\n",
    "    record,\n",
    "    cancel_order,\n",
    "    get_open_orders,\n",
    ")\n",
    "\n",
    "def initialize(context):\n",
    "    context.ASSET_NAME = 'btc_usd'\n",
    "    context.TARGET_HODL_RATIO = 0.8\n",
    "    context.RESERVE_RATIO = 1.0 - context.TARGET_HODL_RATIO\n",
    "\n",
    "    # For all trading pairs in the poloniex bundle, the default denomination\n",
    "    # currently supported by Catalyst is 1/1000th of a full coin. Use this\n",
    "    # constant to scale the price of up to that of a full coin if desired.\n",
    "    context.TICK_SIZE = 1000.0\n",
    "\n",
    "    context.is_buying = True\n",
    "    context.asset = symbol(context.ASSET_NAME)\n",
    "\n",
    "    context.i = 0\n",
    "\n",
    "def handle_data(context, data):\n",
    "    context.i += 1\n",
    "\n",
    "    starting_cash = context.portfolio.starting_cash\n",
    "    target_hodl_value = context.TARGET_HODL_RATIO * starting_cash\n",
    "    reserve_value = context.RESERVE_RATIO * starting_cash\n",
    "\n",
    "    # Cancel any outstanding orders\n",
    "    orders = get_open_orders(context.asset) or []\n",
    "    for order in orders:\n",
    "        cancel_order(order)\n",
    "\n",
    "    # Stop buying after passing the reserve threshold\n",
    "    cash = context.portfolio.cash\n",
    "    if cash <= reserve_value:\n",
    "        context.is_buying = False\n",
    "\n",
    "    # Retrieve current asset price from pricing data\n",
    "    price = data.current(context.asset, 'price')\n",
    "\n",
    "    # Check if still buying and could (approximately) afford another purchase\n",
    "    if context.is_buying and cash > price:\n",
    "        # Place order to make position in asset equal to target_hodl_value\n",
    "        order_target_value(\n",
    "            context.asset,\n",
    "            target_hodl_value,\n",
    "            limit_price=price*1.1,\n",
    "        )\n",
    "\n",
    "    record(\n",
    "        price=price,\n",
    "        volume=data.current(context.asset, 'volume'),\n",
    "        cash=cash,\n",
    "        starting_cash=context.portfolio.starting_cash,\n",
    "        leverage=context.account.leverage,\n",
    "    )\n",
    "\n",
    "def analyze(context=None, results=None):\n",
    "    import matplotlib.pyplot as plt\n",
    "\n",
    "    # Plot the portfolio and asset data.\n",
    "    ax1 = plt.subplot(611)\n",
    "    results[['portfolio_value']].plot(ax=ax1)\n",
    "    ax1.set_ylabel('Portfolio Value (USD)')\n",
    "\n",
    "    ax2 = plt.subplot(612, sharex=ax1)\n",
    "    ax2.set_ylabel('{asset} (USD)'.format(asset=context.ASSET_NAME))\n",
    "    (context.TICK_SIZE * results[['price']]).plot(ax=ax2)\n",
    "\n",
    "    trans = results.ix[[t != [] for t in results.transactions]]\n",
    "    buys = trans.ix[\n",
    "        [t[0]['amount'] > 0 for t in trans.transactions]\n",
    "    ]\n",
    "    ax2.plot(\n",
    "        buys.index,\n",
    "        context.TICK_SIZE * results.price[buys.index],\n",
    "        '^',\n",
    "        markersize=10,\n",
    "        color='g',\n",
    "    )\n",
    "\n",
    "    ax3 = plt.subplot(613, sharex=ax1)\n",
    "    results[['leverage', 'alpha', 'beta']].plot(ax=ax3)\n",
    "    ax3.set_ylabel('Leverage ')\n",
    "\n",
    "    ax4 = plt.subplot(614, sharex=ax1)\n",
    "    results[['starting_cash', 'cash']].plot(ax=ax4)\n",
    "    ax4.set_ylabel('Cash (USD)')\n",
    "\n",
    "    results[[\n",
    "        'treasury',\n",
    "        'algorithm',\n",
    "        'benchmark',\n",
    "    ]] = results[[\n",
    "        'treasury_period_return',\n",
    "        'algorithm_period_return',\n",
    "        'benchmark_period_return',\n",
    "    ]]\n",
    "\n",
    "    ax5 = plt.subplot(615, sharex=ax1)\n",
    "    results[[\n",
    "        'treasury',\n",
    "        'algorithm',\n",
    "        'benchmark',\n",
    "    ]].plot(ax=ax5)\n",
    "    ax5.set_ylabel('Percent Change')\n",
    "\n",
    "    ax6 = plt.subplot(616, sharex=ax1)\n",
    "    results[['volume']].plot(ax=ax6)\n",
    "    ax6.set_ylabel('Volume (mCoins/5min)')\n",
    "\n",
    "    plt.legend(loc=3)\n",
    "\n",
    "    # Show the plot.\n",
    "    plt.gcf().set_size_inches(18, 8)\n",
    "    plt.show()"
   ]
  },
  {
   "cell_type": "code",
   "execution_count": null,
   "metadata": {
    "collapsed": true
   },
   "outputs": [],
   "source": []
  }
 ],
 "metadata": {
  "anaconda-cloud": {},
  "kernelspec": {
   "display_name": "Python [conda env:catalyst]",
   "language": "python",
   "name": "conda-env-catalyst-py"
  },
  "language_info": {
   "codemirror_mode": {
    "name": "ipython",
    "version": 3
   },
   "file_extension": ".py",
   "mimetype": "text/x-python",
   "name": "python",
   "nbconvert_exporter": "python",
   "pygments_lexer": "ipython3",
   "version": "3.6.4"
  }
 },
 "nbformat": 4,
 "nbformat_minor": 2
}
